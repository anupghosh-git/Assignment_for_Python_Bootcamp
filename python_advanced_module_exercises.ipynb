{
 "cells": [
  {
   "cell_type": "markdown",
   "id": "d1efa137",
   "metadata": {
    "ExecuteTime": {
     "end_time": "2022-10-31T10:38:55.234851Z",
     "start_time": "2022-10-31T10:38:55.224048Z"
    }
   },
   "source": [
    "### Advanced Modules Exercises\n"
   ]
  },
  {
   "cell_type": "code",
   "execution_count": 18,
   "id": "700033d2",
   "metadata": {
    "ExecuteTime": {
     "end_time": "2022-10-31T17:59:28.260828Z",
     "start_time": "2022-10-31T17:59:28.257015Z"
    }
   },
   "outputs": [],
   "source": [
    "import zipfile\n",
    "import shutil"
   ]
  },
  {
   "cell_type": "markdown",
   "id": "edbb03d6",
   "metadata": {},
   "source": [
    "##### Using Shutil:\n",
    "- shutil.unpack_archive('unzip_me_for_instructions.zip','','zip')\n",
    "\n",
    "##### Using zipfile:\n",
    "- zip_obj = zipfile.ZipFile('unzip_me_for_instructions.zip','r')\n",
    "- zip_obj.extractall('extracted_instruction_file')"
   ]
  },
  {
   "cell_type": "code",
   "execution_count": 19,
   "id": "04438ba8",
   "metadata": {
    "ExecuteTime": {
     "end_time": "2022-10-31T17:59:33.929874Z",
     "start_time": "2022-10-31T17:59:33.872856Z"
    }
   },
   "outputs": [],
   "source": [
    "#zip_obj = zipfile.ZipFile('unzip_me_for_instructions.zip','r')\n",
    "shutil.unpack_archive('unzip_me_for_instructions.zip','','zip')"
   ]
  },
  {
   "cell_type": "code",
   "execution_count": 20,
   "id": "d0e63660",
   "metadata": {
    "ExecuteTime": {
     "end_time": "2022-10-31T17:59:43.538698Z",
     "start_time": "2022-10-31T17:59:43.534851Z"
    }
   },
   "outputs": [],
   "source": [
    "#zip_obj.extractall('extracted_instruction_file')"
   ]
  },
  {
   "cell_type": "markdown",
   "id": "44936720",
   "metadata": {},
   "source": [
    "##### Read the instructions: "
   ]
  },
  {
   "cell_type": "code",
   "execution_count": 21,
   "id": "d3c4af06",
   "metadata": {
    "ExecuteTime": {
     "end_time": "2022-10-31T18:00:00.153897Z",
     "start_time": "2022-10-31T18:00:00.147973Z"
    }
   },
   "outputs": [
    {
     "name": "stdout",
     "output_type": "stream",
     "text": [
      "Good work on unzipping the file!\n",
      "You should now see 5 folders, each with a lot of random .txt files.\n",
      "Within one of these text files is a telephone number formated ###-###-#### \n",
      "Use the Python os module and regular expressions to iterate through each file, open it, and search for a telephone number.\n",
      "Good luck!\n"
     ]
    }
   ],
   "source": [
    "with open('extracted_content/Instructions.txt') as f:\n",
    "    content = f.read()\n",
    "    print(content)\n"
   ]
  },
  {
   "cell_type": "markdown",
   "id": "ac8d13a7",
   "metadata": {},
   "source": [
    "##### Regulat Expression to find the link:"
   ]
  },
  {
   "cell_type": "code",
   "execution_count": 22,
   "id": "f28f0677",
   "metadata": {
    "ExecuteTime": {
     "end_time": "2022-10-31T18:00:06.582871Z",
     "start_time": "2022-10-31T18:00:06.578139Z"
    }
   },
   "outputs": [],
   "source": [
    "import re"
   ]
  },
  {
   "cell_type": "code",
   "execution_count": 23,
   "id": "9272d64a",
   "metadata": {
    "ExecuteTime": {
     "end_time": "2022-10-31T18:00:07.459263Z",
     "start_time": "2022-10-31T18:00:07.455217Z"
    }
   },
   "outputs": [],
   "source": [
    "pattern = r'\\d{3}-\\d{3}-\\d{4}'"
   ]
  },
  {
   "cell_type": "markdown",
   "id": "46bcab85",
   "metadata": {},
   "source": [
    "###### Creating the regex function for searching the telephone number"
   ]
  },
  {
   "cell_type": "code",
   "execution_count": 24,
   "id": "724e4846",
   "metadata": {
    "ExecuteTime": {
     "end_time": "2022-10-31T18:00:09.166500Z",
     "start_time": "2022-10-31T18:00:09.161814Z"
    }
   },
   "outputs": [],
   "source": [
    "def search(file, pattern = r'\\d{3}-\\d{3}-\\d{4}'):\n",
    "    f = open(file, 'r')\n",
    "    text = f.read()\n",
    "    \n",
    "    if re.search(pattern, text):\n",
    "        return re.search(pattern, text)\n",
    "    else:\n",
    "        return ''"
   ]
  },
  {
   "cell_type": "markdown",
   "id": "fa731033",
   "metadata": {},
   "source": [
    "##### OS Walk through the Files to Get the Link:"
   ]
  },
  {
   "cell_type": "code",
   "execution_count": 25,
   "id": "fca01c73",
   "metadata": {
    "ExecuteTime": {
     "end_time": "2022-10-31T18:00:10.630858Z",
     "start_time": "2022-10-31T18:00:10.626656Z"
    }
   },
   "outputs": [],
   "source": [
    "import os"
   ]
  },
  {
   "cell_type": "code",
   "execution_count": 28,
   "id": "c7a789c3",
   "metadata": {
    "ExecuteTime": {
     "end_time": "2022-10-31T18:00:40.328202Z",
     "start_time": "2022-10-31T18:00:40.304090Z"
    }
   },
   "outputs": [],
   "source": [
    "results = []\n",
    "for folder, sub_folders, files in os.walk(os.getcwd()+\"/extracted_content\"):\n",
    "    for f in files:\n",
    "        full_path = folder + '/' + f\n",
    "        \n",
    "        results.append(search(full_path))"
   ]
  },
  {
   "cell_type": "code",
   "execution_count": 29,
   "id": "af91ae80",
   "metadata": {
    "ExecuteTime": {
     "end_time": "2022-10-31T18:00:41.241181Z",
     "start_time": "2022-10-31T18:00:41.235614Z"
    }
   },
   "outputs": [
    {
     "name": "stdout",
     "output_type": "stream",
     "text": [
      "719-266-2837\n"
     ]
    }
   ],
   "source": [
    "for r in results :\n",
    "    if r != '':\n",
    "        print(r.group())"
   ]
  },
  {
   "cell_type": "code",
   "execution_count": null,
   "id": "040c61be",
   "metadata": {},
   "outputs": [],
   "source": []
  },
  {
   "cell_type": "code",
   "execution_count": null,
   "id": "ea19d9e9",
   "metadata": {},
   "outputs": [],
   "source": []
  }
 ],
 "metadata": {
  "kernelspec": {
   "display_name": "Python 3 (ipykernel)",
   "language": "python",
   "name": "python3"
  },
  "language_info": {
   "codemirror_mode": {
    "name": "ipython",
    "version": 3
   },
   "file_extension": ".py",
   "mimetype": "text/x-python",
   "name": "python",
   "nbconvert_exporter": "python",
   "pygments_lexer": "ipython3",
   "version": "3.9.7"
  },
  "toc": {
   "base_numbering": 1,
   "nav_menu": {},
   "number_sections": true,
   "sideBar": true,
   "skip_h1_title": false,
   "title_cell": "Table of Contents",
   "title_sidebar": "Contents",
   "toc_cell": false,
   "toc_position": {},
   "toc_section_display": true,
   "toc_window_display": false
  },
  "varInspector": {
   "cols": {
    "lenName": 16,
    "lenType": 16,
    "lenVar": 40
   },
   "kernels_config": {
    "python": {
     "delete_cmd_postfix": "",
     "delete_cmd_prefix": "del ",
     "library": "var_list.py",
     "varRefreshCmd": "print(var_dic_list())"
    },
    "r": {
     "delete_cmd_postfix": ") ",
     "delete_cmd_prefix": "rm(",
     "library": "var_list.r",
     "varRefreshCmd": "cat(var_dic_list()) "
    }
   },
   "types_to_exclude": [
    "module",
    "function",
    "builtin_function_or_method",
    "instance",
    "_Feature"
   ],
   "window_display": false
  }
 },
 "nbformat": 4,
 "nbformat_minor": 5
}
