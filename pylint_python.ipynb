{
 "cells": [
  {
   "cell_type": "markdown",
   "id": "45b6636e",
   "metadata": {},
   "source": [
    "## Pylint in python: \n",
    "- to find out the error\n",
    "- to verify the coding rate\n",
    "- good coding practice\n"
   ]
  },
  {
   "cell_type": "code",
   "execution_count": null,
   "id": "7a542d85",
   "metadata": {},
   "outputs": [],
   "source": []
  }
 ],
 "metadata": {
  "kernelspec": {
   "display_name": "Python 3.9.7 ('base')",
   "language": "python",
   "name": "python3"
  },
  "language_info": {
   "codemirror_mode": {
    "name": "ipython",
    "version": 3
   },
   "file_extension": ".py",
   "mimetype": "text/x-python",
   "name": "python",
   "nbconvert_exporter": "python",
   "pygments_lexer": "ipython3",
   "version": "3.9.7"
  },
  "vscode": {
   "interpreter": {
    "hash": "b3d12a30c639c3a494e062d6c4cc70e232cb1c584d6a6e220e40135ff73d5b15"
   }
  }
 },
 "nbformat": 4,
 "nbformat_minor": 5
}
