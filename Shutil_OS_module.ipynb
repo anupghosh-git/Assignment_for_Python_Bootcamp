{
 "cells": [
  {
   "cell_type": "markdown",
   "metadata": {},
   "source": [
    "# Shutil and OS Modules\n",
    "- Opening and reading  file and folders in python using shutil and OS module"
   ]
  },
  {
   "cell_type": "code",
   "execution_count": 1,
   "metadata": {},
   "outputs": [
    {
     "data": {
      "text/plain": [
       "'/home/anup_ghosh/integrify/Assignment_for_Python_Bootcamp'"
      ]
     },
     "execution_count": 1,
     "metadata": {},
     "output_type": "execute_result"
    }
   ],
   "source": [
    "pwd"
   ]
  },
  {
   "cell_type": "code",
   "execution_count": 2,
   "metadata": {},
   "outputs": [],
   "source": [
    "f = open('practice.txt', 'w+')\n",
    "f.write('This is a test string. I am Anup')\n",
    "f.close()"
   ]
  },
  {
   "cell_type": "markdown",
   "metadata": {},
   "source": [
    "- how to use os module"
   ]
  },
  {
   "cell_type": "code",
   "execution_count": 3,
   "metadata": {},
   "outputs": [],
   "source": [
    "import os"
   ]
  },
  {
   "cell_type": "code",
   "execution_count": 4,
   "metadata": {},
   "outputs": [
    {
     "data": {
      "text/plain": [
       "'/home/anup_ghosh/integrify/Assignment_for_Python_Bootcamp'"
      ]
     },
     "execution_count": 4,
     "metadata": {},
     "output_type": "execute_result"
    }
   ],
   "source": [
    "os.getcwd() # home directory"
   ]
  },
  {
   "cell_type": "code",
   "execution_count": 5,
   "metadata": {},
   "outputs": [
    {
     "data": {
      "text/plain": [
       "['new.py',\n",
       " 'my_new_file2.txt',\n",
       " 'LICENSE',\n",
       " 'README.md',\n",
       " '09-Objects and Data Structures Assessment Test.ipynb',\n",
       " 'python_generators.ipynb',\n",
       " '03-Function_Practice_Exercises_solution_anup.ipynb',\n",
       " '02-Errors-and-Exceptions-Homework.ipynb',\n",
       " '02-Object_Oriented_Programming_Homework.ipynb',\n",
       " '.git',\n",
       " 'python_decorators.ipynb',\n",
       " '3-section.ipynb',\n",
       " 'Shutil_OS_module.ipynb',\n",
       " 'section6-nested-statements-and-scopes.ipynb',\n",
       " 'function-lanbda-expression.ipynb',\n",
       " '2-section.ipynb',\n",
       " 'section-6.ipynb',\n",
       " 'myfile.txt',\n",
       " 'python_collection_module.ipynb',\n",
       " 'python_boot.ipynb',\n",
       " 'section-4.ipynb',\n",
       " '10_section_errors_and_exception_handelling.ipynb',\n",
       " 'my_new_file.txt',\n",
       " 'section-5.ipynb',\n",
       " 'challenging-problems-section6.ipynb',\n",
       " '08_section_oop.ipynb',\n",
       " 'practice.txt',\n",
       " '04-OOP_Challenge.ipynb',\n",
       " 'pylint_python.ipynb',\n",
       " 'Functions_and_Methods_Homework_me.ipynb']"
      ]
     },
     "execution_count": 5,
     "metadata": {},
     "output_type": "execute_result"
    }
   ],
   "source": [
    "os.listdir() # List of directory"
   ]
  },
  {
   "cell_type": "code",
   "execution_count": 7,
   "metadata": {},
   "outputs": [
    {
     "ename": "TypeError",
     "evalue": "chroot() missing required argument 'path' (pos 1)",
     "output_type": "error",
     "traceback": [
      "\u001b[0;31m---------------------------------------------------------------------------\u001b[0m",
      "\u001b[0;31mTypeError\u001b[0m                                 Traceback (most recent call last)",
      "\u001b[1;32m/home/anup_ghosh/integrify/Assignment_for_Python_Bootcamp/Shutil_OS_module.ipynb Cell 8\u001b[0m in \u001b[0;36m<cell line: 1>\u001b[0;34m()\u001b[0m\n\u001b[0;32m----> <a href='vscode-notebook-cell://wsl%2Bubuntu/home/anup_ghosh/integrify/Assignment_for_Python_Bootcamp/Shutil_OS_module.ipynb#X10sdnNjb2RlLXJlbW90ZQ%3D%3D?line=0'>1</a>\u001b[0m os\u001b[39m.\u001b[39;49mchroot()\n",
      "\u001b[0;31mTypeError\u001b[0m: chroot() missing required argument 'path' (pos 1)"
     ]
    }
   ],
   "source": [
    "os"
   ]
  },
  {
   "cell_type": "code",
   "execution_count": null,
   "metadata": {},
   "outputs": [],
   "source": []
  }
 ],
 "metadata": {
  "kernelspec": {
   "display_name": "Python 3.9.7 ('base')",
   "language": "python",
   "name": "python3"
  },
  "language_info": {
   "codemirror_mode": {
    "name": "ipython",
    "version": 3
   },
   "file_extension": ".py",
   "mimetype": "text/x-python",
   "name": "python",
   "nbconvert_exporter": "python",
   "pygments_lexer": "ipython3",
   "version": "3.9.7"
  },
  "orig_nbformat": 4,
  "vscode": {
   "interpreter": {
    "hash": "b3d12a30c639c3a494e062d6c4cc70e232cb1c584d6a6e220e40135ff73d5b15"
   }
  }
 },
 "nbformat": 4,
 "nbformat_minor": 2
}
