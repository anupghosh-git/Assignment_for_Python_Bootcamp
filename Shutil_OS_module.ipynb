{
 "cells": [
  {
   "cell_type": "markdown",
   "metadata": {},
   "source": [
    "# Shutil and OS Modules\n",
    "- Opening and reading  file and folders in python using shutil and OS module"
   ]
  },
  {
   "cell_type": "code",
   "execution_count": 1,
   "metadata": {},
   "outputs": [
    {
     "data": {
      "text/plain": [
       "'/home/anup_ghosh/integrify/Assignment_for_Python_Bootcamp'"
      ]
     },
     "execution_count": 1,
     "metadata": {},
     "output_type": "execute_result"
    }
   ],
   "source": [
    "pwd"
   ]
  },
  {
   "cell_type": "code",
   "execution_count": 2,
   "metadata": {},
   "outputs": [],
   "source": [
    "f = open('practice.txt', 'w+')\n",
    "f.write('This is a test string. I am Anup')\n",
    "f.close()"
   ]
  },
  {
   "cell_type": "markdown",
   "metadata": {},
   "source": [
    "- how to use os module"
   ]
  },
  {
   "cell_type": "code",
   "execution_count": 3,
   "metadata": {},
   "outputs": [],
   "source": [
    "import os"
   ]
  },
  {
   "cell_type": "code",
   "execution_count": 4,
   "metadata": {},
   "outputs": [
    {
     "data": {
      "text/plain": [
       "'/home/anup_ghosh/integrify/Assignment_for_Python_Bootcamp'"
      ]
     },
     "execution_count": 4,
     "metadata": {},
     "output_type": "execute_result"
    }
   ],
   "source": [
    "os.getcwd() # home directory"
   ]
  },
  {
   "cell_type": "code",
   "execution_count": 5,
   "metadata": {},
   "outputs": [
    {
     "data": {
      "text/plain": [
       "['new.py',\n",
       " 'my_new_file2.txt',\n",
       " 'LICENSE',\n",
       " 'README.md',\n",
       " '09-Objects and Data Structures Assessment Test.ipynb',\n",
       " 'python_generators.ipynb',\n",
       " '03-Function_Practice_Exercises_solution_anup.ipynb',\n",
       " '02-Errors-and-Exceptions-Homework.ipynb',\n",
       " '02-Object_Oriented_Programming_Homework.ipynb',\n",
       " '.git',\n",
       " 'python_decorators.ipynb',\n",
       " '3-section.ipynb',\n",
       " 'Shutil_OS_module.ipynb',\n",
       " 'section6-nested-statements-and-scopes.ipynb',\n",
       " 'function-lanbda-expression.ipynb',\n",
       " '2-section.ipynb',\n",
       " 'section-6.ipynb',\n",
       " 'myfile.txt',\n",
       " 'python_collection_module.ipynb',\n",
       " 'python_boot.ipynb',\n",
       " 'section-4.ipynb',\n",
       " '10_section_errors_and_exception_handelling.ipynb',\n",
       " 'my_new_file.txt',\n",
       " 'section-5.ipynb',\n",
       " 'challenging-problems-section6.ipynb',\n",
       " '08_section_oop.ipynb',\n",
       " 'practice.txt',\n",
       " '04-OOP_Challenge.ipynb',\n",
       " 'pylint_python.ipynb',\n",
       " 'Functions_and_Methods_Homework_me.ipynb']"
      ]
     },
     "execution_count": 5,
     "metadata": {},
     "output_type": "execute_result"
    }
   ],
   "source": [
    "os.listdir() # List of directory"
   ]
  },
  {
   "cell_type": "code",
   "execution_count": 9,
   "metadata": {},
   "outputs": [
    {
     "data": {
      "text/plain": [
       "['anup_ghosh']"
      ]
     },
     "execution_count": 9,
     "metadata": {},
     "output_type": "execute_result"
    }
   ],
   "source": [
    "os.listdir(\"/home\") # it will return list of files and folders in the provided directory"
   ]
  },
  {
   "cell_type": "code",
   "execution_count": 10,
   "metadata": {},
   "outputs": [],
   "source": [
    "import shutil\n"
   ]
  },
  {
   "cell_type": "markdown",
   "metadata": {},
   "source": [
    "- moving file from one directory to another directory"
   ]
  },
  {
   "cell_type": "code",
   "execution_count": 12,
   "metadata": {},
   "outputs": [
    {
     "data": {
      "text/plain": [
       "'/home/anup_ghosh/integrify/practice.txt'"
      ]
     },
     "execution_count": 12,
     "metadata": {},
     "output_type": "execute_result"
    }
   ],
   "source": [
    "shutil.move('practice.txt','/home/anup_ghosh/integrify')"
   ]
  },
  {
   "cell_type": "code",
   "execution_count": 13,
   "metadata": {},
   "outputs": [
    {
     "data": {
      "text/plain": [
       "['integrify',\n",
       " '.python_history',\n",
       " 'python-numpy',\n",
       " 'ml-class-uni',\n",
       " 'sorting_searching',\n",
       " 'github',\n",
       " '.landscape',\n",
       " '.gitignore',\n",
       " '.sudo_as_admin_successful',\n",
       " 'python-introduction',\n",
       " 'dask',\n",
       " '.gitconfig',\n",
       " 'Untitled.ipynb',\n",
       " '.conda',\n",
       " 'jupyter_contrib_nbextensions',\n",
       " 'project-assignment1',\n",
       " 'Panda',\n",
       " 'seaborn',\n",
       " '.cache',\n",
       " 'LICENSE',\n",
       " 'README.md',\n",
       " '.bash_history',\n",
       " 'environment.yml:Zone.Identifier',\n",
       " 'air-pollution-acid-rain',\n",
       " '.wget-hsts',\n",
       " '.git',\n",
       " 'monir-vai-assignment',\n",
       " '.motd_shown',\n",
       " '.config',\n",
       " 'web-scrapping',\n",
       " 'git-portfolio',\n",
       " '.profile',\n",
       " 'Python-cheat-sheet.pdf:Zone.Identifier',\n",
       " '.jupyter',\n",
       " '.ssh',\n",
       " '.ipynb_checkpoints',\n",
       " '.bash_logout',\n",
       " \"panda-bhuwan's file\",\n",
       " 'ML-uni-class',\n",
       " '.viminfo',\n",
       " 'Cleaning-Data-In-Python-Datacamp',\n",
       " '.bashrc',\n",
       " 'Data-Engineering',\n",
       " 'cheat sheet',\n",
       " 'miniconda.sh',\n",
       " 'Dphi_datascience_bootcamp',\n",
       " '.local',\n",
       " 'machine-learning',\n",
       " 'Statistics',\n",
       " 'matplotlib',\n",
       " 'ml_class_sanVai_SamiaApu',\n",
       " '.vscode-server',\n",
       " '.ipython',\n",
       " 'linear-search.ipynb',\n",
       " 'miniconda3']"
      ]
     },
     "execution_count": 13,
     "metadata": {},
     "output_type": "execute_result"
    }
   ],
   "source": [
    "os.listdir('/home/anup_ghosh')"
   ]
  },
  {
   "cell_type": "code",
   "execution_count": 14,
   "metadata": {},
   "outputs": [],
   "source": [
    "import send2trash"
   ]
  },
  {
   "cell_type": "code",
   "execution_count": 15,
   "metadata": {},
   "outputs": [
    {
     "data": {
      "text/plain": [
       "['new.py',\n",
       " 'my_new_file2.txt',\n",
       " 'LICENSE',\n",
       " 'README.md',\n",
       " '09-Objects and Data Structures Assessment Test.ipynb',\n",
       " 'python_generators.ipynb',\n",
       " '03-Function_Practice_Exercises_solution_anup.ipynb',\n",
       " '02-Errors-and-Exceptions-Homework.ipynb',\n",
       " '02-Object_Oriented_Programming_Homework.ipynb',\n",
       " '.git',\n",
       " 'python_decorators.ipynb',\n",
       " '3-section.ipynb',\n",
       " 'Shutil_OS_module.ipynb',\n",
       " 'section6-nested-statements-and-scopes.ipynb',\n",
       " 'function-lanbda-expression.ipynb',\n",
       " '2-section.ipynb',\n",
       " 'section-6.ipynb',\n",
       " 'myfile.txt',\n",
       " 'python_collection_module.ipynb',\n",
       " 'python_boot.ipynb',\n",
       " 'section-4.ipynb',\n",
       " '10_section_errors_and_exception_handelling.ipynb',\n",
       " 'my_new_file.txt',\n",
       " 'section-5.ipynb',\n",
       " 'challenging-problems-section6.ipynb',\n",
       " '08_section_oop.ipynb',\n",
       " '04-OOP_Challenge.ipynb',\n",
       " 'pylint_python.ipynb',\n",
       " 'Functions_and_Methods_Homework_me.ipynb']"
      ]
     },
     "execution_count": 15,
     "metadata": {},
     "output_type": "execute_result"
    }
   ],
   "source": [
    "os.listdir()"
   ]
  },
  {
   "cell_type": "code",
   "execution_count": 16,
   "metadata": {},
   "outputs": [
    {
     "data": {
      "text/plain": [
       "'/home/anup_ghosh/integrify/Assignment_for_Python_Bootcamp/practice.txt'"
      ]
     },
     "execution_count": 16,
     "metadata": {},
     "output_type": "execute_result"
    }
   ],
   "source": [
    "shutil.move('/home/anup_ghosh/integrify/practice.txt',os.getcwd())"
   ]
  },
  {
   "cell_type": "code",
   "execution_count": 17,
   "metadata": {},
   "outputs": [],
   "source": [
    "send2trash.send2trash('practice.txt')"
   ]
  },
  {
   "cell_type": "code",
   "execution_count": 18,
   "metadata": {},
   "outputs": [
    {
     "data": {
      "text/plain": [
       "['new.py',\n",
       " 'my_new_file2.txt',\n",
       " 'LICENSE',\n",
       " 'README.md',\n",
       " '09-Objects and Data Structures Assessment Test.ipynb',\n",
       " 'python_generators.ipynb',\n",
       " '03-Function_Practice_Exercises_solution_anup.ipynb',\n",
       " '02-Errors-and-Exceptions-Homework.ipynb',\n",
       " '02-Object_Oriented_Programming_Homework.ipynb',\n",
       " '.git',\n",
       " 'python_decorators.ipynb',\n",
       " '3-section.ipynb',\n",
       " 'Shutil_OS_module.ipynb',\n",
       " 'section6-nested-statements-and-scopes.ipynb',\n",
       " 'function-lanbda-expression.ipynb',\n",
       " '2-section.ipynb',\n",
       " 'section-6.ipynb',\n",
       " 'myfile.txt',\n",
       " 'python_collection_module.ipynb',\n",
       " 'python_boot.ipynb',\n",
       " 'section-4.ipynb',\n",
       " '10_section_errors_and_exception_handelling.ipynb',\n",
       " 'my_new_file.txt',\n",
       " 'section-5.ipynb',\n",
       " 'challenging-problems-section6.ipynb',\n",
       " '08_section_oop.ipynb',\n",
       " '04-OOP_Challenge.ipynb',\n",
       " 'pylint_python.ipynb',\n",
       " 'Functions_and_Methods_Homework_me.ipynb']"
      ]
     },
     "execution_count": 18,
     "metadata": {},
     "output_type": "execute_result"
    }
   ],
   "source": [
    "os.listdir()"
   ]
  },
  {
   "cell_type": "code",
   "execution_count": null,
   "metadata": {},
   "outputs": [],
   "source": []
  }
 ],
 "metadata": {
  "kernelspec": {
   "display_name": "Python 3.9.7 ('base')",
   "language": "python",
   "name": "python3"
  },
  "language_info": {
   "codemirror_mode": {
    "name": "ipython",
    "version": 3
   },
   "file_extension": ".py",
   "mimetype": "text/x-python",
   "name": "python",
   "nbconvert_exporter": "python",
   "pygments_lexer": "ipython3",
   "version": "3.9.7"
  },
  "orig_nbformat": 4,
  "vscode": {
   "interpreter": {
    "hash": "b3d12a30c639c3a494e062d6c4cc70e232cb1c584d6a6e220e40135ff73d5b15"
   }
  }
 },
 "nbformat": 4,
 "nbformat_minor": 2
}
